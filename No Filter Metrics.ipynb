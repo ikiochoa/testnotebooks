{
 "cells": [
  {
   "cell_type": "markdown",
   "metadata": {},
   "source": [
    "# No Filter - Metric Definitions\n",
    "\n",
    "# Dashboard\n",
    "Twitter, Facebook and Instagram\n",
    "\n",
    "## 1. Global metrics\n",
    "General notes: \n",
    "\n",
    "**Reach**: the number of people who see your content.\n",
    "\n",
    "**Impressions**: the number of times your content is displayed.\n",
    "\n",
    "**Engagement**: the number of interactions people have with your content (i.e.: likes, comments, shares, retweets, etc.)\n",
    "\n",
    "### Overall impressions:\n",
    "Total number of times your content was displayed to people.\n",
    "https://www.taylordigital.com/blog/social-media-engagement-reach-impressions/\n",
    "\n",
    "If a post got a reach of 500 and 2000 impressions:\n",
    "- 500 of your followers saw your post\n",
    "- Your post was shown 2000 times, so it might be your followers saw it several times, or they shared it with other people.\n",
    "\n",
    "### Total paid to influencers:\n",
    "Total amount paid to influencers according to the selected filters. \n",
    "\n",
    "### Cost per engagement:\n",
    "Price paid / nr of engagements\n",
    "\n",
    "### Total reach:\n",
    "How many unique people read the post\n",
    "\n",
    "### Total likes:\n",
    "Likes on campaign.\n",
    "\n",
    "### Total comments:\n",
    "Comments on campaign.\n",
    "\n",
    "### Average engagement:\n",
    "Number of persons interacting with the posts (either comment, like or share). \n",
    "\n",
    "### Average engagement rate:\n",
    "The engagement rate shows if a person can motivate their followers to comment or like their posts. Usually, a value of over 4% is considered as good. If a person has, for example, an engagement rate of 22.48%, that means that 22.48% of his/her followers react to the posts. \n",
    "\n",
    "The average engament rate would be the average engagement rates of the posts in the selected campaign/timeframe. "
   ]
  },
  {
   "cell_type": "code",
   "execution_count": 6,
   "metadata": {},
   "outputs": [
    {
     "data": {
      "text/html": [
       "26.25"
      ],
      "text/latex": [
       "26.25"
      ],
      "text/markdown": [
       "26.25"
      ],
      "text/plain": [
       "[1] 26.25"
      ]
     },
     "metadata": {},
     "output_type": "display_data"
    }
   ],
   "source": [
    "# Engagement per post:\n",
    "\n",
    "nr_followers = 2000\n",
    "nr_likes = 200\n",
    "nr_comments = 25\n",
    "nr_shares = 300\n",
    "\n",
    "engagement = ((nr_likes + nr_comments + nr_shares)/nr_followers)*100\n",
    "engagement\n",
    "\n",
    "# The average engagement is the average of this rates of all posts within the selected filters"
   ]
  },
  {
   "cell_type": "markdown",
   "metadata": {},
   "source": [
    "----\n",
    "## 2. Brand social metrics\n",
    "Number of followers of the brand per channel.  \n",
    "\n",
    "----\n",
    "\n",
    "## 3. Matched influencers:\n",
    "Matched influencers that would be good for the brand's campaign according to given inputs (verticals, desired brands).\n",
    "\n",
    "**[To come up with algorithm]**\n",
    "\n",
    "----\n",
    "# Campaigns\n",
    "\n",
    "## 1. Overall campaign metrics\n",
    "\n",
    "### Average campaign cost, Total reach\n",
    "As above.\n",
    "\n",
    "### Requests received:\n",
    "Number of influencers that applied to participate in a campaign.\n",
    "\n",
    "### Invites accepted\n",
    "Influencers that accepted to participate in a campaign.\n",
    "\n",
    "### Impressions, Likes, Comments, Engagement, Reach:\n",
    "As above.\n",
    "\n",
    "**NOTE for Engagement**: It should be engagement rate, or not be a percentage\n",
    "\n"
   ]
  },
  {
   "cell_type": "markdown",
   "metadata": {},
   "source": [
    "## 2. Individual campaign metrics\n",
    "\n",
    "### Likes, Comments\n",
    "As above.\n",
    "\n",
    "### Top post \n",
    "Post with more engagement. The post with more activity. \n",
    "\n",
    "### Target impressions\n",
    "Number of total impressions I want to achieve with my campaign\n",
    "\n",
    "### Potential impressions\n",
    "(Calculate according to nr of followers of influencers in campaign) \n",
    "\n",
    "**[To come up with algorithm]**\n",
    "\n",
    "### Total reach\n",
    "Think of a time series graph that shows both targets for impressions and reach, as well as achieved ones.\n",
    "\n",
    "### Engagement\n",
    "Number of persons that have been engaged in the campaign.\n",
    "\n",
    "### Engagement rate\n",
    "Engagement / total followers (of brand, of influencers?) \n",
    "\n",
    "### Cost per engagement\n",
    "Money paid for the campaign, divided by number of engagements. "
   ]
  },
  {
   "cell_type": "markdown",
   "metadata": {},
   "source": [
    "----\n",
    "# Influencers\n",
    "\n",
    "## 1. Overall influencer metrics\n",
    "\n",
    "### Total unique followers:\n",
    "Total unique followers of all influencers."
   ]
  },
  {
   "cell_type": "markdown",
   "metadata": {},
   "source": [
    "### Average follower ratio:\n",
    "The ratio between **followers/following**\n",
    "\n",
    "https://follows.com/blog/2017/04/ideal-follower-following-ratio"
   ]
  },
  {
   "cell_type": "code",
   "execution_count": 26,
   "metadata": {},
   "outputs": [
    {
     "data": {
      "text/html": [
       "39144.3531914894"
      ],
      "text/latex": [
       "39144.3531914894"
      ],
      "text/markdown": [
       "39144.3531914894"
      ],
      "text/plain": [
       "[1] 39144.35"
      ]
     },
     "metadata": {},
     "output_type": "display_data"
    }
   ],
   "source": [
    "# Follower ratio:\n",
    "# Example from a football player, even if this is high, his engangement-rate is very low \n",
    "\n",
    "nr_followers = 9198923\n",
    "nr_following = 235\n",
    "\n",
    "follower_ratio = nr_followers/nr_following\n",
    "follower_ratio\n",
    "\n",
    "# The average follower ratio would be an average of the follower ratio values for the user \n",
    "# within a selected period of time. \n",
    "# Makes sense to calculate a daily follower ratio to keep track of its changes."
   ]
  },
  {
   "cell_type": "markdown",
   "metadata": {},
   "source": [
    "### Average quality score:\n",
    "\n",
    "**NOTE**: Algorithm from Risen, can investigate later.\n",
    "\n",
    "1) The scoring is based on an algorithm: we take the natural logarithm of the following values:\n",
    "\n",
    "    a) Activity - measures types of posts Influencer adds, whether it's just text, or vlogs, videos, pictures etc.\n",
    "\n",
    "    b) Engagement - what happens after Influencer adds the new post, what type of audience engagements appears, how many likes, comments, shares etc.\n",
    "\n",
    "    c) Range - how many users are reached with the posts of the Influencer\n",
    "\n",
    "    d) Frequency - how often does the Influencer post new stuff, based on the exact dates\n",
    "\n",
    "- Those numbers are then multiplied with the number of social media channels the Influencer is active in and weighted average is assigned based on those channels.\n",
    "- Audience demographics should include: age, gender, income, top countries, top cities, audience interest (based on verticals)"
   ]
  },
  {
   "cell_type": "markdown",
   "metadata": {},
   "source": [
    "### Gender:\n",
    "Gender distribution of influencers. "
   ]
  },
  {
   "cell_type": "markdown",
   "metadata": {},
   "source": [
    "### Top location\n",
    "- Location from followers of influencers\n",
    "\n",
    "**NOTE**: Might be worth adding the top 5 (not only one). \n",
    "\n",
    "### Average post cost\n",
    "Average of past post cost (same as above)\n",
    "\n",
    "\n",
    "## 2. Matched\n",
    "[This algorithm approach will be provided.]\n",
    "\n",
    "## 3. Individual influencer metrics\n",
    "### Influencer Growth: (or rather Follower growth)\n",
    "Graph of number of followers over time. \n",
    "\n",
    "### Quality score:\n",
    "As defined above.\n",
    "\n",
    "### Follower ratio:\n",
    "The ratio between **followers/following**\n",
    "\n",
    "### Average cost per engagement per channel: \n",
    "From his paid campaigns, how much an engagement costed per channel. \n",
    "\n",
    "### Posts per day:\n",
    "Total amount of posts per day in all channels. \n",
    "\n",
    "### Comments per post:\n",
    "Toal number of comments per post\n",
    "\n",
    "### Target group analysis:\n",
    "Audience demographics of the followers should include: \n",
    "- age, \n",
    "- gender, \n",
    "- top countries,\n",
    "- top cities,\n",
    "- audience interest (based on verticals),\n",
    "- income (hard to get)\n",
    "\n",
    "----"
   ]
  },
  {
   "cell_type": "markdown",
   "metadata": {},
   "source": [
    "# Payments\n",
    "\n",
    "## 1. Payment metrics\n",
    "\n",
    "### Average cost per interaction\n",
    "Average cost per interaction. \n",
    "\n",
    "### Total paid:\n",
    "Money paid during the selected time/filters.\n",
    "\n",
    "### Amount due:\n",
    "Money owed during the selected time/filters. \n",
    "\n",
    "### Payments outstanding:\n",
    "Number of outstanding payments.\n"
   ]
  },
  {
   "cell_type": "markdown",
   "metadata": {},
   "source": [
    "---\n",
    "\n",
    "# From the influencer part\n",
    "(whatever is not defined, take the definitions from above)\n",
    "\n",
    "## Overall Metrics\n",
    "\n",
    "### Follower growth\n",
    "Change to followers over time\n",
    "\n",
    "### Media value per post\n",
    "Ad post worth considering reach and engagement with a CPM of approx. 5 CHF.\n",
    "\n",
    "### Like ratio\n",
    "Like the engament rate, but only with likes, average per posts.\n",
    "\n",
    "### Outgoing mentions\n",
    "Retweets, shares of own posts. \n",
    "\n",
    "### Clicks\n",
    "Number of clicks of content in the post (e.g. a link)\n",
    "I'd recommend a ratio instead of a total number.\n",
    "\n",
    "# My Campaigns metrics\n",
    "\n",
    "### Average campaign value\n",
    "Average money earned per campaign so far in the platform\n",
    "\n",
    "### Followers\n",
    "Total followers\n",
    "\n",
    "# Individual campaign metrics\n",
    "Use the same as above\n",
    "\n",
    "# Brands\n",
    "## 1. Overal brands metrics\n",
    "\n",
    "### Average engagement\n",
    "Average brand engagement (as defined above)\n",
    "\n",
    "### Average spend\n",
    "Average money spent per campaign\n",
    "\n",
    "### Most popular platform\n",
    "Top platform where they run more campaigns\n",
    "\n",
    "### Most active\n",
    "Brand with more campaigns in the platform\n",
    "\n",
    "## 2. Individual brand metrics\n",
    "Followers per channel\n",
    "\n",
    "# Payment\n",
    "All the same as above\n",
    "\n",
    "### Days till next payment\n",
    "When is my next payment due? \n"
   ]
  },
  {
   "cell_type": "markdown",
   "metadata": {},
   "source": []
  }
 ],
 "metadata": {
  "kernelspec": {
   "display_name": "R",
   "language": "R",
   "name": "ir"
  },
  "language_info": {
   "codemirror_mode": "r",
   "file_extension": ".r",
   "mimetype": "text/x-r-source",
   "name": "R",
   "pygments_lexer": "r",
   "version": "3.4.2"
  }
 },
 "nbformat": 4,
 "nbformat_minor": 2
}
