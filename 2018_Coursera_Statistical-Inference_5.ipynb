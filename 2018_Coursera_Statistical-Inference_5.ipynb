{
 "cells": [
  {
   "cell_type": "markdown",
   "metadata": {},
   "source": [
    "# Course 5. Statistical Inference\n",
    "- http://datasciencespecialization.github.io/statinf/\n",
    "- LaTeX Symbols: https://oeis.org/wiki/List_of_LaTeX_mathematical_symbols\n",
    "\n",
    "\n",
    "## Week 1\n",
    "\n",
    "### Lesson 1: Introduction\n",
    "\n",
    "#### Four homeworks, similar to the Quizes\n",
    "\n",
    "http://bcaffo.github.io/courses/06_StatisticalInference/homework/hw1.html#1\n",
    "\n",
    "http://bcaffo.github.io/courses/06_StatisticalInference/homework/hw2.html#1\n",
    "\n",
    "http://bcaffo.github.io/courses/06_StatisticalInference/homework/hw3.html#1\n",
    "\n",
    "http://bcaffo.github.io/courses/06_StatisticalInference/homework/hw4.html#1\n",
    "\n",
    "### Lesson 2: Probability\n",
    "\n"
   ]
  },
  {
   "cell_type": "markdown",
   "metadata": {},
   "source": [
    "Whenever A and B are not independent: $P(A \\cup B) = P(A)+P(B)-P(A\\cap B)$"
   ]
  },
  {
   "cell_type": "markdown",
   "metadata": {},
   "source": [
    "- Discrete: flip coin, roll die, webhits on a site\n",
    "- Continue: BMI, intelligence quotients\n",
    "\n",
    "**PMF**: Probability mass function evaluated at a value corresponds to the probability that a random variable takes that value. It must:\n",
    "    - Always be greater or equal than 0\n",
    "    - The sum of possible values has to add up to 1\n",
    "    \n",
    "**PDF**: Probability density function is a function associated with a continuous random variable. To be valid it must:\n",
    "    - Be larger or equal to zero everywhere\n",
    "    - The total area under it must be one\n",
    "    \n",
    "**CDF**: The cumulative distribution function of a random variable, X, returns the probability that the random variable is less than or equal to the value of x. $F(x)=P(X \\leq x)$\n",
    "\n",
    "The **survival function** of a random variable X is defined as the probability that the random variable is greater than the value x:  $S(x) = P(X>x)$. Notice that $S(x)=1-F(x)$"
   ]
  },
  {
   "cell_type": "code",
   "execution_count": 3,
   "metadata": {},
   "outputs": [
    {
     "data": {
      "text/html": [
       "0.707106781186548"
      ],
      "text/latex": [
       "0.707106781186548"
      ],
      "text/markdown": [
       "0.707106781186548"
      ],
      "text/plain": [
       "[1] 0.7071068"
      ]
     },
     "metadata": {},
     "output_type": "display_data"
    }
   ],
   "source": [
    "# Get median or 50th quantile of the beta distribution\n",
    "qbeta(0.5,2,1)"
   ]
  },
  {
   "cell_type": "markdown",
   "metadata": {},
   "source": [
    "### Lesson 3: Conditional Probability\n",
    "\n",
    "- Let $B$ be an event so that $P(B)>0$\n",
    "- $P(A|B)= \\frac{P(A \\cap B)}{P(B)}$ \n",
    "- If A and B are independent: $P(A|B)= \\frac{P(A)P(B)}{P(B)} = P(A)$ \n",
    "- Bayes Rule: $P(B|A)= \\frac{$P(A|B)P(B)}{$P(A|B)P(B)+P(A|B^c)P(B^c)}$\n",
    "\n",
    "#### Diagnostic tests\n",
    "Let $-$ and $+$ be the events that a result of a test is positive or negative.\n",
    "Let $D$ and $D^c$ be the event that the subject of the test has or does not have the disease respectively\n",
    "- Sensitivity: $P(+|D)$  --> test is positive given the disease\n",
    "- Specificity: $P(-|D)$  --> test is negative not given the disease\n",
    "- Positive predictive value: $P(D|+)$\n",
    "- Negative predictive value: $P(D^c|-)$\n",
    "- Prevalence of disease: $P(D)$"
   ]
  },
  {
   "cell_type": "markdown",
   "metadata": {},
   "source": [
    "### Quiz 1\n",
    "\n",
    "$P(A \\cup B) = P(A)+P(B)-P(A\\cap B)$\n",
    "\n",
    "$P(A \\cup B) = 17%$\n",
    "\n",
    "$P(B) = 12%$\n",
    "\n",
    "$P(A \\cap B) = 6%$\n",
    "\n",
    "$P(A) = P(A \\cup B)- P(B) + P(A\\cap B) = 17 - 12 + 6 = 11$\n",
    "\n"
   ]
  },
  {
   "cell_type": "code",
   "execution_count": 4,
   "metadata": {},
   "outputs": [
    {
     "data": {
      "text/html": [
       "0.75"
      ],
      "text/latex": [
       "0.75"
      ],
      "text/markdown": [
       "0.75"
      ],
      "text/plain": [
       "[1] 0.75"
      ]
     },
     "metadata": {},
     "output_type": "display_data"
    }
   ],
   "source": [
    "qunif(.75)"
   ]
  },
  {
   "cell_type": "markdown",
   "metadata": {},
   "source": [
    "$P(D) = 30%$\n",
    "\n",
    "$P(+|D) = 75%$\n",
    "\n",
    "$P(-|D) = 52%$\n",
    "\n",
    "$P(D|+)= \\frac{P(+|D)P(D)}{P(+|D)P(D)+P(+|D^c)P(D^c)}$\n",
    "\n",
    "$P(D|+)= \\frac{P(+|D)P(D)}{P(+|D)P(D)+(1-P(-|D))(1-P(D))}$\n",
    "\n",
    "$P(D|+)= \\frac{0.75*0.30}{0.75*0.30+(1-0.52)(1-0.3)}$\n"
   ]
  },
  {
   "cell_type": "code",
   "execution_count": 11,
   "metadata": {},
   "outputs": [
    {
     "data": {
      "text/html": [
       "0.401069518716578"
      ],
      "text/latex": [
       "0.401069518716578"
      ],
      "text/markdown": [
       "0.401069518716578"
      ],
      "text/plain": [
       "[1] 0.4010695"
      ]
     },
     "metadata": {},
     "output_type": "display_data"
    }
   ],
   "source": [
    "0.75*0.30/(0.75*0.30+0.48*0.7)"
   ]
  },
  {
   "cell_type": "code",
   "execution_count": 13,
   "metadata": {},
   "outputs": [
    {
     "data": {
      "text/html": [
       "<table>\n",
       "<tbody>\n",
       "\t<tr><th scope=row>X</th><td>1.0</td><td>2.0</td><td>3.0</td><td>4.0</td></tr>\n",
       "\t<tr><th scope=row>Prob</th><td>0.1</td><td>0.2</td><td>0.3</td><td>0.4</td></tr>\n",
       "</tbody>\n",
       "</table>\n"
      ],
      "text/latex": [
       "\\begin{tabular}{r|llll}\n",
       "\tX & 1.0 & 2.0 & 3.0 & 4.0\\\\\n",
       "\tProb & 0.1 & 0.2 & 0.3 & 0.4\\\\\n",
       "\\end{tabular}\n"
      ],
      "text/markdown": [
       "\n",
       "| X | 1.0 | 2.0 | 3.0 | 4.0 | \n",
       "| Prob | 0.1 | 0.2 | 0.3 | 0.4 | \n",
       "\n",
       "\n"
      ],
      "text/plain": [
       "     [,1] [,2] [,3] [,4]\n",
       "X    1.0  2.0  3.0  4.0 \n",
       "Prob 0.1  0.2  0.3  0.4 "
      ]
     },
     "metadata": {},
     "output_type": "display_data"
    },
    {
     "data": {
      "text/html": [
       "3"
      ],
      "text/latex": [
       "3"
      ],
      "text/markdown": [
       "3"
      ],
      "text/plain": [
       "[1] 3"
      ]
     },
     "metadata": {},
     "output_type": "display_data"
    }
   ],
   "source": [
    "x <- 1:4\n",
    "p <- x/sum(x)\n",
    "temp <- rbind(x, p)\n",
    "rownames(temp) <- c(\"X\", \"Prob\")\n",
    "temp\n",
    "sum(x*p)"
   ]
  },
  {
   "cell_type": "code",
   "execution_count": null,
   "metadata": {
    "collapsed": true
   },
   "outputs": [],
   "source": []
  }
 ],
 "metadata": {
  "kernelspec": {
   "display_name": "R",
   "language": "R",
   "name": "ir"
  },
  "language_info": {
   "codemirror_mode": "r",
   "file_extension": ".r",
   "mimetype": "text/x-r-source",
   "name": "R",
   "pygments_lexer": "r",
   "version": "3.4.2"
  }
 },
 "nbformat": 4,
 "nbformat_minor": 2
}
